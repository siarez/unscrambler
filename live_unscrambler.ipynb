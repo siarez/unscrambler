{
 "cells": [
  {
   "cell_type": "code",
   "execution_count": 3,
   "id": "d0a8db6e-17cb-4e28-be2b-0752f92f9696",
   "metadata": {
    "tags": []
   },
   "outputs": [],
   "source": [
    "import numpy as np\n",
    "from sklearn import datasets\n",
    "import matplotlib.pyplot as plt\n",
    "import pickle\n",
    "from sklearn.manifold import TSNE, LocallyLinearEmbedding\n",
    "from scipy.spatial.distance import pdist, squareform\n",
    "from scipy import signal\n",
    "# import skvideo.io\n",
    "from openTSNE import TSNE as oTSNE\n",
    "from openTSNE import  affinity\n",
    "import math\n",
    "import cv2\n",
    "import os\n",
    "from tqdm.notebook import trange, tqdm\n",
    "plt.switch_backend('Agg')\n",
    "\n",
    "from IPython.display import display, Image\n",
    "import ipywidgets as widgets\n",
    "import threading\n",
    "import multiprocessing as mp\n",
    "\n"
   ]
  },
  {
   "cell_type": "code",
   "execution_count": 4,
   "id": "fcfcd738-7204-4abe-8a31-dc671f30566f",
   "metadata": {
    "tags": []
   },
   "outputs": [],
   "source": [
    "def calc_dist(data):\n",
    "    dist = 1 - np.abs(np.corrcoef(data, rowvar=True))\n",
    "    # eliminating pixels with nan distance. These are pixels who have not changed across all images. That is std = 0\n",
    "    np.nan_to_num(dist, copy=False)\n",
    "    eleminated_pixel_idx = np.all(np.isnan(dist), axis=0)\n",
    "    dist = dist[:, ~np.all(np.isnan(dist), axis=0)]\n",
    "    dist = dist[~np.all(np.isnan(dist), axis=1), :]\n",
    "    return dist, eleminated_pixel_idx\n",
    "\n",
    "def plot_frame(frame, pixel_pos):\n",
    "    fig, ax = plt.subplots(1, 1, sharey=False, figsize=(1.5, 1.5), dpi=200)\n",
    "    # ax.scatter(positions_embd[:, 0], positions_embd[:, 1], s=4, c=test_image[~bad_pixel_idx])\n",
    "    frame_colors = frame.reshape(-1, 3) / 255 \n",
    "    # print('colors shape', frame_colors.shape)\n",
    "    # ax.scatter(pixel_pos[~bad_pixel_idx, 0], pixel_pos[~bad_pixel_idx, 1], s=4, c=frame_colors[~bad_pixel_idx], alpha=0.5)\n",
    "    ax.scatter(pixel_pos[:, 0], pixel_pos[:, 1], s=4, c=frame_colors[:], alpha=0.5)\n",
    "    ax.set_xlim(-3, 3)\n",
    "    ax.set_ylim(-4, 4)\n",
    "    ax.set_facecolor(\"black\")\n",
    "    fig.canvas.draw()\n",
    "    plot_data = np.frombuffer(fig.canvas.tostring_rgb(), dtype=np.uint8)\n",
    "    plt.close()\n",
    "    return plot_data.reshape(fig.canvas.get_width_height()[::-1] + (3,))\n",
    "\n",
    "\n",
    "def tsne_proc(q_send, q_receive):\n",
    "    positions_embd = None\n",
    "    while not q_receive.empty():\n",
    "        dist_mat = q_receive.get()\n",
    "        positions_embd = oTSNE(n_components=2, verbose=False, metric=\"precomputed\", perplexity=14.0, initialization='random' if positions_embd is None else positions_embd ).prepare_initial(dist_mat)    \n",
    "        positions_embd = positions_embd.optimize(n_iter=10, inplace=False, exaggeration=12 , n_jobs=-1)        \n",
    "        q_send.put(positions_embd)\n"
   ]
  },
  {
   "cell_type": "code",
   "execution_count": 8,
   "id": "6e0b1207-ff43-4b55-a5fb-bb4ae7c80819",
   "metadata": {
    "tags": []
   },
   "outputs": [
    {
     "data": {
      "application/vnd.jupyter.widget-view+json": {
       "model_id": "f9fb62479c9e4b1c96949a6371c50e6d",
       "version_major": 2,
       "version_minor": 0
      },
      "text/plain": [
       "ToggleButton(value=False, button_style='danger', description='Stop', icon='square', tooltip='Description')"
      ]
     },
     "metadata": {},
     "output_type": "display_data"
    },
    {
     "data": {
      "application/vnd.jupyter.widget-view+json": {
       "model_id": "cf2c5573f79e450cb3f1ef4b5eb50b03",
       "version_major": 2,
       "version_minor": 0
      },
      "text/plain": [
       "ToggleButton(value=False, button_style='warning', description='Freeze', icon='pause', tooltip='Description')"
      ]
     },
     "metadata": {},
     "output_type": "display_data"
    },
    {
     "name": "stderr",
     "output_type": "stream",
     "text": [
      "[ WARN:0@51.432] global /private/var/folders/k1/30mswbxs7r1g6zwn8y4fyt500000gp/T/abs_11nitadzeg/croot/opencv-suite_1691620374638/work/modules/videoio/src/cap_gstreamer.cpp (862) isPipelinePlaying OpenCV | GStreamer warning: GStreamer: pipeline have not been created\n"
     ]
    },
    {
     "data": {
      "text/plain": [
       "None"
      ]
     },
     "metadata": {},
     "output_type": "display_data"
    },
    {
     "name": "stdout",
     "output_type": "stream",
     "text": [
      "Looppingggggggg\n"
     ]
    },
    {
     "name": "stderr",
     "output_type": "stream",
     "text": [
      "Standard deviation of embedding is greater than 0.0001. Initial embeddings with high variance may have display poor convergence.\n",
      "Standard deviation of embedding is greater than 0.0001. Initial embeddings with high variance may have display poor convergence.\n",
      "Standard deviation of embedding is greater than 0.0001. Initial embeddings with high variance may have display poor convergence.\n",
      "Standard deviation of embedding is greater than 0.0001. Initial embeddings with high variance may have display poor convergence.\n",
      "Standard deviation of embedding is greater than 0.0001. Initial embeddings with high variance may have display poor convergence.\n",
      "Standard deviation of embedding is greater than 0.0001. Initial embeddings with high variance may have display poor convergence.\n",
      "Standard deviation of embedding is greater than 0.0001. Initial embeddings with high variance may have display poor convergence.\n",
      "Standard deviation of embedding is greater than 0.0001. Initial embeddings with high variance may have display poor convergence.\n",
      "Standard deviation of embedding is greater than 0.0001. Initial embeddings with high variance may have display poor convergence.\n",
      "Standard deviation of embedding is greater than 0.0001. Initial embeddings with high variance may have display poor convergence.\n",
      "Standard deviation of embedding is greater than 0.0001. Initial embeddings with high variance may have display poor convergence.\n",
      "Standard deviation of embedding is greater than 0.0001. Initial embeddings with high variance may have display poor convergence.\n",
      "Standard deviation of embedding is greater than 0.0001. Initial embeddings with high variance may have display poor convergence.\n",
      "Standard deviation of embedding is greater than 0.0001. Initial embeddings with high variance may have display poor convergence.\n",
      "Standard deviation of embedding is greater than 0.0001. Initial embeddings with high variance may have display poor convergence.\n",
      "Standard deviation of embedding is greater than 0.0001. Initial embeddings with high variance may have display poor convergence.\n",
      "Standard deviation of embedding is greater than 0.0001. Initial embeddings with high variance may have display poor convergence.\n",
      "Standard deviation of embedding is greater than 0.0001. Initial embeddings with high variance may have display poor convergence.\n",
      "Standard deviation of embedding is greater than 0.0001. Initial embeddings with high variance may have display poor convergence.\n"
     ]
    }
   ],
   "source": [
    "# Stop button\n",
    "# ================\n",
    "stopButton = widgets.ToggleButton(\n",
    "    value=False,\n",
    "    description='Stop',\n",
    "    disabled=False,\n",
    "    button_style='danger', # 'success', 'info', 'warning', 'danger' or ''\n",
    "    tooltip='Description',\n",
    "    icon='square' # (FontAwesome names without the `fa-` prefix)\n",
    ")\n",
    "\n",
    "freezeButton = widgets.ToggleButton(\n",
    "    value=False,\n",
    "    description='Freeze',\n",
    "    disabled=False,\n",
    "    button_style='warning', # 'success', 'info', 'warning', 'danger' or ''\n",
    "    tooltip='Description',\n",
    "    icon='pause' # (FontAwesome names without the `fa-` prefix)\n",
    ")\n",
    "\n",
    "\n",
    "# Display function\n",
    "# ================\n",
    "def view(button,):\n",
    "    cap = cv2.VideoCapture(0)\n",
    "    # cap.set(3,64) # adjust width\n",
    "    # cap.set(4,48) # adjust height\n",
    "    display_handle=display(None, display_id=True)\n",
    "    i = 0\n",
    "    # Need a running window of frames to calculate distances\n",
    "    window_size = 100\n",
    "    frames = []\n",
    "    positions_embd = None\n",
    "    flip_flop_x = 0\n",
    "    flip_flop_y = 0\n",
    "\n",
    "    first_iter = True\n",
    "\n",
    "\n",
    "    print('Looppingggggggg')\n",
    "    while True:\n",
    "        _, frame = cap.read()\n",
    "        frame = cv2.flip(frame, 1)[flip_flop_x::24, flip_flop_y::24] # if your camera reverses your image\n",
    "        # flip_flop_x = 1 - flip_flop_x\n",
    "        # flip_flop_y = 1 - flip_flop_y if flip_flop_x == 0 else flip_flop_y\n",
    "\n",
    "        \n",
    "        frames.append(cv2.cvtColor(frame, cv2.COLOR_BGR2GRAY))\n",
    "        if len(frames) >= window_size:  \n",
    "            \n",
    "\n",
    "            frames_flat = np.stack(frames, axis=-1).reshape(-1, window_size)  \n",
    "            dist_mat, bad_pixel_idx = calc_dist(frames_flat)   \n",
    "\n",
    "\n",
    "                \n",
    "            if freezeButton.value==False:\n",
    "                positions_embd = oTSNE(n_components=2, verbose=False, metric=\"precomputed\", perplexity=14.0, initialization='random' if positions_embd is None else positions_embd ).prepare_initial(dist_mat)    \n",
    "                positions_embd = positions_embd.optimize(n_iter=10, inplace=False, exaggeration=12 , n_jobs=-1)\n",
    "            \n",
    "            plotted_frame = plot_frame(frame, positions_embd)\n",
    "            _, frame_jpeg = cv2.imencode('.jpeg', plotted_frame)\n",
    "\n",
    "            display_handle.update(Image(data=frame_jpeg.tobytes()))\n",
    "            \n",
    "            frames.pop(0)\n",
    "            \n",
    "        if stopButton.value==True:\n",
    "            cap.release()\n",
    "            display_handle.update(None)\n",
    "\n",
    "            break\n",
    "\n",
    "            \n",
    "# Run\n",
    "# ================\n",
    "\n",
    "# ctx = mp.get_context('fork')    \n",
    "# q_receive = ctx.SimpleQueue()\n",
    "# q_send = ctx.SimpleQueue()\n",
    "# p = ctx.Process(target=tsne_proc, args=(q_receive, q_send))\n",
    "# p.start()\n",
    "\n",
    "display(stopButton)\n",
    "display(freezeButton)\n",
    "thread = threading.Thread(target=view, args=(stopButton, ))\n",
    "thread.start()\n",
    "            # p.join()"
   ]
  },
  {
   "cell_type": "code",
   "execution_count": 5,
   "id": "241db91a-209d-42fe-baf3-e5d634a32025",
   "metadata": {},
   "outputs": [
    {
     "name": "stderr",
     "output_type": "stream",
     "text": [
      "[ WARN:0@2.305] global /private/var/folders/k1/30mswbxs7r1g6zwn8y4fyt500000gp/T/abs_11nitadzeg/croot/opencv-suite_1691620374638/work/modules/videoio/src/cap_gstreamer.cpp (862) isPipelinePlaying OpenCV | GStreamer warning: GStreamer: pipeline have not been created\n"
     ]
    }
   ],
   "source": [
    "cap = cv2.VideoCapture(0)\n",
    "cap.set(3,640) # adjust width\n",
    "cap.set(4,480) # adjust height\n",
    "\n",
    "success, img = cap.read()\n"
   ]
  },
  {
   "cell_type": "code",
   "execution_count": 3,
   "id": "2dc1bec3-703b-4278-982c-924b99dd185f",
   "metadata": {
    "tags": []
   },
   "outputs": [
    {
     "name": "stdout",
     "output_type": "stream",
     "text": [
      "hello\n"
     ]
    }
   ],
   "source": [
    "import multiprocessing as mp\n",
    "\n",
    "def foo(q):\n",
    "    q.put('hello')\n",
    "\n",
    "if __name__ == '__main__':\n",
    "    ctx = mp.get_context('fork')\n",
    "    q = ctx.Queue()\n",
    "    p = ctx.Process(target=foo, args=(q,))\n",
    "    p.start()\n",
    "    print(q.get())\n",
    "    p.join()"
   ]
  },
  {
   "cell_type": "code",
   "execution_count": null,
   "id": "b30a4f86-6749-4e5d-9481-eec4d590a39c",
   "metadata": {
    "tags": []
   },
   "outputs": [],
   "source": [
    "from multiprocessing import Process, Manager\n",
    "\n",
    "def worker(shared_list):\n",
    "    shared_list.append('Worker')\n",
    "\n",
    "if __name__ == '__main__':\n",
    "    manager = Manager()\n",
    "    shared_list = manager.list()\n",
    "\n",
    "    p = Process(target=worker, args=(shared_list,))\n",
    "    p.start()\n",
    "    p.join()\n",
    "\n",
    "    print(shared_list)"
   ]
  },
  {
   "cell_type": "code",
   "execution_count": null,
   "id": "83eaf641-f6ca-4a53-a3e2-11cbceaef0ca",
   "metadata": {},
   "outputs": [],
   "source": []
  }
 ],
 "metadata": {
  "kernelspec": {
   "display_name": "Python 3 (ipykernel)",
   "language": "python",
   "name": "python3"
  },
  "language_info": {
   "codemirror_mode": {
    "name": "ipython",
    "version": 3
   },
   "file_extension": ".py",
   "mimetype": "text/x-python",
   "name": "python",
   "nbconvert_exporter": "python",
   "pygments_lexer": "ipython3",
   "version": "3.11.0"
  }
 },
 "nbformat": 4,
 "nbformat_minor": 5
}
